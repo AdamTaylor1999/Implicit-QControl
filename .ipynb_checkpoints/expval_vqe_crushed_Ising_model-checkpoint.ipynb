{
 "cells": [
  {
   "cell_type": "markdown",
   "id": "29023110-4807-4263-9dcd-123cb11a703a",
   "metadata": {},
   "source": [
    "# Tensor network quantum control for expectation value minimisation\n",
    "\n",
    "In this program, we take the optimised gate sequence from _vqe_from_expval_mpo.m_ and implement a state vector simulation to confirm they correctly minimising the expectation value."
   ]
  },
  {
   "cell_type": "code",
   "execution_count": 1,
   "id": "f87b524d-1b88-4de0-8def-8216225433b4",
   "metadata": {},
   "outputs": [],
   "source": [
    "import numpy as np\n",
    "import random\n",
    "import itertools\n",
    "import time\n",
    "from matplotlib import pyplot as plt\n",
    "from qutip import *\n",
    "\n",
    "from pauli_string_functions_module_python import *"
   ]
  },
  {
   "cell_type": "code",
   "execution_count": 3,
   "id": "1aa42f81-6558-4280-a5fd-cc569d553b87",
   "metadata": {},
   "outputs": [
    {
     "data": {
      "text/plain": [
       "array([-5.45741483, -4.36501413, -3.40723125, -2.66166005, -2.18870229,\n",
       "       -1.17631184, -0.43074065,  0.04221712,  0.52704224,  1.        ,\n",
       "        1.61944294,  1.7455712 ,  2.0924007 ,  2.83797189,  3.79575478,\n",
       "        6.02667418])"
      ]
     },
     "execution_count": 3,
     "metadata": {},
     "output_type": "execute_result"
    }
   ],
   "source": [
    "#crushed Ising model (cIm) - definition, spectrum and eigenstates\n",
    "n = 4\n",
    "X1, Xn = 'X' + 'I' * (n - 1), 'I' * (n - 1) + 'X'\n",
    "cIm_terms = tuple(list(all_single_operator_strings(n, 'Z')) + [X1, Xn] + list(local_2body_strings(n, 'XX')))\n",
    "H_cIm = 0 \n",
    "for j in range(len(cIm_terms)):\n",
    "    H_cIm += operator_string_from_Pauli_string(cIm_terms[j])\n",
    "\n",
    "cIm_spectrum, cIm_states = H_cIm.eigenstates()\n",
    "cIm_GS = cIm_states[0]\n",
    "cIm_spectrum"
   ]
  },
  {
   "cell_type": "code",
   "execution_count": 44,
   "id": "a2ee913e-bf40-40a5-b01b-38fd32176e5e",
   "metadata": {},
   "outputs": [],
   "source": [
    "#importing and organising data\n",
    "n = 4\n",
    "bin_num = 10\n",
    "ctrl_num = 8\n",
    "x_optm = np.loadtxt('data/cIm_bin_num=10_n=4_test.csv', delimiter=',')\n",
    "T_optm = x_optm[-1]\n",
    "Dt = T_optm / bin_num\n",
    "c_optm = np.reshape(x_optm[:-1], (bin_num, ctrl_num))\n",
    "\n",
    "cX_temp, cY_temp = np.zeros([n, bin_num]), np.zeros([n, bin_num])\n",
    "for i in range(n):\n",
    "    cX_temp[i] = c_optm[:, 2 * i]\n",
    "    cY_temp[i] = c_optm[:, 2 * i + 1]\n",
    "\n",
    "#swapping sign and order of cX an cY\n",
    "cX_binned, cY_binned = np.zeros([n, bin_num]), np.zeros([n, bin_num])\n",
    "for i in range(n):\n",
    "    cX_binned[i] = -np.flip(cX_temp[i])\n",
    "    cY_binned[i] = -np.flip(cY_temp[i])\n",
    "#row represents the time bin, collumn represents the qubit on which X or Y act"
   ]
  },
  {
   "cell_type": "code",
   "execution_count": 45,
   "id": "940d6c7b-e65e-4474-a182-79d1d805098c",
   "metadata": {},
   "outputs": [],
   "source": [
    "#state vector simulation parameters and time-dependent pulse definition\n",
    "time_steps = 10000\n",
    "times = np.linspace(0, T_optm, time_steps)\n",
    "\n",
    "cX, cY = np.zeros([n, time_steps]), np.zeros([n, time_steps])\n",
    "for i in range(n):\n",
    "    count = 1\n",
    "    for j in range(time_steps):\n",
    "        if times[j] > count * Dt and count < bin_num: #second condition avoids floating error leading to count = bin_count + 1\n",
    "            count += 1\n",
    "        cX[i, j] = cX_binned[i, count - 1]\n",
    "        cY[i, j] = cY_binned[i, count - 1]\n",
    "\n",
    "X_ops, Y_ops = np.zeros(n, dtype = list), np.zeros(n, dtype = list)\n",
    "H_control = []\n",
    "for i in range(n):\n",
    "    X_ops[i] = operator_string_from_Pauli_string(pauli_string_at_qubit_position(n, 'X', i))\n",
    "    Y_ops[i] = operator_string_from_Pauli_string(pauli_string_at_qubit_position(n, 'Y', i))\n",
    "    H_control.append([X_ops[i], cX[i]])\n",
    "    H_control.append([Y_ops[i], cY[i]])\n",
    "\n",
    "cZZ = - np.ones(time_steps) # -ZZ as time reversed due to optimising for +ZZ (change this in MATLAB)\n",
    "ZZ_ops = np.zeros(n, dtype = list)\n",
    "H_native = []\n",
    "for i in range(n - 1):\n",
    "    ZZ_ops[i] = operator_string_from_Pauli_string(pauli_string_at_qubit_position(n, 'ZZ', i))\n",
    "    H_native.append([ZZ_ops[i], cZZ])\n",
    "\n",
    "H_time_dependent = H_control + H_native"
   ]
  },
  {
   "cell_type": "code",
   "execution_count": 46,
   "id": "165c2a9c-5fc3-4922-86f0-ee6e5b54a9c0",
   "metadata": {},
   "outputs": [],
   "source": [
    "#state vector simulation --> does it work!?!\n",
    "psi0 = tensor([basis(2, 0)] * n)\n",
    "result = mesolve(H_time_dependent, psi0, times)\n",
    "psiT = result.states[-1]"
   ]
  },
  {
   "cell_type": "code",
   "execution_count": 47,
   "id": "33c428cc-95f3-47a6-aae5-42cd1d319d29",
   "metadata": {},
   "outputs": [
    {
     "data": {
      "text/plain": [
       "(2.6763866671189454, -5.457414830239131)"
      ]
     },
     "execution_count": 47,
     "metadata": {},
     "output_type": "execute_result"
    }
   ],
   "source": [
    "expect(H_cIm, psiT), expect(H_cIm, cIm_GS)"
   ]
  },
  {
   "cell_type": "code",
   "execution_count": 48,
   "id": "172af4c5-8c9d-41ee-8858-c72281c550a8",
   "metadata": {},
   "outputs": [
    {
     "data": {
      "text/plain": [
       "0.03931245900376203"
      ]
     },
     "execution_count": 48,
     "metadata": {},
     "output_type": "execute_result"
    }
   ],
   "source": [
    "fidelity(psiT, cIm_GS)"
   ]
  },
  {
   "cell_type": "code",
   "execution_count": null,
   "id": "c34ce6e9-0b92-4169-b3a2-38be1a8e0c54",
   "metadata": {},
   "outputs": [],
   "source": []
  },
  {
   "cell_type": "code",
   "execution_count": null,
   "id": "e0959fce-07b6-482b-b250-1de7e10a486b",
   "metadata": {},
   "outputs": [],
   "source": []
  },
  {
   "cell_type": "code",
   "execution_count": null,
   "id": "43cdd734-c9ad-4b21-b930-5e9c9eefa4e1",
   "metadata": {},
   "outputs": [],
   "source": []
  },
  {
   "cell_type": "code",
   "execution_count": null,
   "id": "5a91a021-6475-47bf-b07f-69da51fcff87",
   "metadata": {},
   "outputs": [],
   "source": []
  },
  {
   "cell_type": "code",
   "execution_count": null,
   "id": "33d9a716-5469-4129-acce-de5a81185806",
   "metadata": {},
   "outputs": [],
   "source": []
  }
 ],
 "metadata": {
  "kernelspec": {
   "display_name": "Python 3 (ipykernel)",
   "language": "python",
   "name": "python3"
  },
  "language_info": {
   "codemirror_mode": {
    "name": "ipython",
    "version": 3
   },
   "file_extension": ".py",
   "mimetype": "text/x-python",
   "name": "python",
   "nbconvert_exporter": "python",
   "pygments_lexer": "ipython3",
   "version": "3.9.18"
  }
 },
 "nbformat": 4,
 "nbformat_minor": 5
}
