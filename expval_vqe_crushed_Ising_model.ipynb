{
 "cells": [
  {
   "cell_type": "markdown",
   "id": "29023110-4807-4263-9dcd-123cb11a703a",
   "metadata": {},
   "source": [
    "# Tensor network quantum control for expectation value minimisation\n",
    "\n",
    "In this program, we take the optimised gate sequence from _vqe_from_expval_mpo.m_ and implement a state vector simulation to confirm they correctly minimising the expectation value."
   ]
  },
  {
   "cell_type": "code",
   "execution_count": 9,
   "id": "f87b524d-1b88-4de0-8def-8216225433b4",
   "metadata": {},
   "outputs": [],
   "source": [
    "import numpy as np\n",
    "import random\n",
    "import itertools\n",
    "import time\n",
    "from matplotlib import pyplot as plt\n",
    "from qutip import *\n",
    "\n",
    "from pauli_string_functions_module_python import *"
   ]
  },
  {
   "cell_type": "code",
   "execution_count": 31,
   "id": "1aa42f81-6558-4280-a5fd-cc569d553b87",
   "metadata": {},
   "outputs": [
    {
     "name": "stdout",
     "output_type": "stream",
     "text": [
      "[-5.45741483 -4.36501413 -3.40723125 -2.66166005 -2.18870229 -1.17631184\n",
      " -0.43074065  0.04221712  0.52704224  1.          1.61944294  1.7455712\n",
      "  2.0924007   2.83797189  3.79575478  6.02667418]\n",
      "-5.457414830239131\n"
     ]
    }
   ],
   "source": [
    "#crushed Ising model (cIm) - definition, spectrum and eigenstates\n",
    "n = 4\n",
    "X1, Xn = 'X' + 'I' * (n - 1), 'I' * (n - 1) + 'X'\n",
    "cIm_terms = tuple(list(all_single_operator_strings(n, 'Z')) + [X1, Xn] + list(local_2body_strings(n, 'XX')))\n",
    "H_cIm = 0 \n",
    "for j in range(len(crushed_Ising_model_terms)):\n",
    "    H_cIm += operator_string_from_Pauli_string(cIm_terms[j])\n",
    "\n",
    "cIm_spectrum, cIm_states = H_cIm.eigenstates()\n",
    "cIm_GS = cIm_states[0]"
   ]
  },
  {
   "cell_type": "code",
   "execution_count": 126,
   "id": "a2ee913e-bf40-40a5-b01b-38fd32176e5e",
   "metadata": {},
   "outputs": [],
   "source": [
    "#importing and organising data\n",
    "n = 4\n",
    "bin_num = 2\n",
    "ctrl_num = 8\n",
    "x_optm = np.loadtxt('data/cIm_bin_num=2_n=4_test.csv', delimiter=',')\n",
    "T_optm = x_optm[-1]\n",
    "Dt = T_optm / bin_num\n",
    "c_optm = np.reshape(x_optm[:-1], (bin_num, ctrl_num))\n",
    "\n",
    "cX_temp, cY_temp = np.zeros([n, bin_num]), np.zeros([n, bin_num])\n",
    "for i in range(n):\n",
    "    cX_temp[i] = c_optm[:, 2 * i]\n",
    "    cY_temp[i] = c_optm[:, 2 * i + 1]\n",
    "\n",
    "#swapping sign and order of cX an cY\n",
    "cX_binned, cY_binned = np.zeros([n, bin_num]), np.zeros([n, bin_num])\n",
    "for i in range(n):\n",
    "    cX_binned[i] = np.flip(-cX_temp[i])\n",
    "    cY_binned[i] = np.flip(-cY_temp[i])\n",
    "#row represents the bin, collumn represents the qubit on which X or Y act"
   ]
  },
  {
   "cell_type": "code",
   "execution_count": 128,
   "id": "940d6c7b-e65e-4474-a182-79d1d805098c",
   "metadata": {},
   "outputs": [
    {
     "data": {
      "text/plain": [
       "array([[-0.14738779, -0.14738779, -0.14738779, ...,  0.44361568,\n",
       "         0.44361568,  0.44361568],\n",
       "       [ 0.49118989,  0.49118989,  0.49118989, ..., -0.2586076 ,\n",
       "        -0.2586076 , -0.2586076 ],\n",
       "       [-0.34625889, -0.34625889, -0.34625889, ...,  0.09448364,\n",
       "         0.09448364,  0.09448364],\n",
       "       [ 0.36010245,  0.36010245,  0.36010245, ..., -0.33064405,\n",
       "        -0.33064405, -0.33064405]])"
      ]
     },
     "execution_count": 128,
     "metadata": {},
     "output_type": "execute_result"
    }
   ],
   "source": [
    "#state vector simulation parameters and time-dependent pulse definition\n",
    "time_steps = 10000\n",
    "times = np.linspace(0, T_optm, time_steps)\n",
    "\n",
    "cX, cY = np.zeros([n, time_steps]), np.zeros([n, time_steps])\n",
    "for i in range(n):\n",
    "    count = 1\n",
    "    for j in range(time_steps):\n",
    "        if times[j] > count * Dt:\n",
    "            count += 1\n",
    "        cX[i, j] = cX_binned[i, count - 1]\n",
    "        cY[i, j] = cY_binned[i, count - 1]\n"
   ]
  },
  {
   "cell_type": "code",
   "execution_count": null,
   "id": "165c2a9c-5fc3-4922-86f0-ee6e5b54a9c0",
   "metadata": {},
   "outputs": [],
   "source": [
    "psi0 = tensor([basis(2, 0)] * n)"
   ]
  },
  {
   "cell_type": "code",
   "execution_count": 124,
   "id": "a5e458d1-fc05-4307-a020-c4ca560a4c6e",
   "metadata": {},
   "outputs": [
    {
     "data": {
      "text/plain": [
       "array([[-0.14738779,  0.44361568],\n",
       "       [ 0.49118989, -0.2586076 ],\n",
       "       [-0.34625889,  0.09448364],\n",
       "       [ 0.36010245, -0.33064405]])"
      ]
     },
     "execution_count": 124,
     "metadata": {},
     "output_type": "execute_result"
    }
   ],
   "source": [
    "cX_rev"
   ]
  },
  {
   "cell_type": "code",
   "execution_count": 116,
   "id": "33c428cc-95f3-47a6-aae5-42cd1d319d29",
   "metadata": {},
   "outputs": [
    {
     "data": {
      "text/plain": [
       "1.7735192001799"
      ]
     },
     "execution_count": 116,
     "metadata": {},
     "output_type": "execute_result"
    }
   ],
   "source": []
  },
  {
   "cell_type": "code",
   "execution_count": null,
   "id": "172af4c5-8c9d-41ee-8858-c72281c550a8",
   "metadata": {},
   "outputs": [],
   "source": []
  },
  {
   "cell_type": "code",
   "execution_count": null,
   "id": "0223c787-57a3-4653-8631-0a12e8e050cc",
   "metadata": {},
   "outputs": [],
   "source": []
  }
 ],
 "metadata": {
  "kernelspec": {
   "display_name": "Python 3 (ipykernel)",
   "language": "python",
   "name": "python3"
  },
  "language_info": {
   "codemirror_mode": {
    "name": "ipython",
    "version": 3
   },
   "file_extension": ".py",
   "mimetype": "text/x-python",
   "name": "python",
   "nbconvert_exporter": "python",
   "pygments_lexer": "ipython3",
   "version": "3.9.18"
  }
 },
 "nbformat": 4,
 "nbformat_minor": 5
}
