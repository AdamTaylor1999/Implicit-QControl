{
 "cells": [
  {
   "cell_type": "markdown",
   "id": "29023110-4807-4263-9dcd-123cb11a703a",
   "metadata": {},
   "source": [
    "# Tensor network quantum control for expectation value minimisation\n",
    "\n",
    "In this program, we take the optimised gate sequence from _vqe_from_expval_mpo.m_ and implement a state vector simulation to confirm they correctly minimising the expectation value.\n",
    "\n",
    "For some reason, this is not working... even though we are correctly recovering the expectation value for the $n=4$ case. However, when we change the number of qubits, the expectation value starts failing too! wtf!"
   ]
  },
  {
   "cell_type": "code",
   "execution_count": 4,
   "id": "f87b524d-1b88-4de0-8def-8216225433b4",
   "metadata": {},
   "outputs": [],
   "source": [
    "import numpy as np\n",
    "import random\n",
    "import itertools\n",
    "import time\n",
    "from matplotlib import pyplot as plt\n",
    "from qutip import *\n",
    "\n",
    "from pauli_string_functions_module_python import * "
   ]
  },
  {
   "cell_type": "code",
   "execution_count": 11,
   "id": "64fb96ff-2ae2-40ad-a0f3-52c7c9869de1",
   "metadata": {},
   "outputs": [
    {
     "name": "stdout",
     "output_type": "stream",
     "text": [
      "Ground state energy: -6.464101615137754\n"
     ]
    },
    {
     "data": {
      "text/plain": [
       "<16x16 sparse matrix of type '<class 'numpy.complex128'>'\n",
       "\twith 40 stored elements in Compressed Sparse Row format>"
      ]
     },
     "execution_count": 11,
     "metadata": {},
     "output_type": "execute_result"
    }
   ],
   "source": [
    "#heisenberg model -- should be highly entangled ground state.\n",
    "#when ZZ gates turned off, achieves -3.0000 minima.\n",
    "#When ZZ gates then turned ON, achieves the true GS, -6.46\n",
    "n = 4\n",
    "XX_terms = local_2body_strings(n, 'XX') \n",
    "YY_terms = local_2body_strings(n, 'YY')\n",
    "ZZ_terms = local_2body_strings(n, 'ZZ')\n",
    "\n",
    "H_heis = 0\n",
    "for i in range(n - 1):\n",
    "    H_heis += operator_string_from_Pauli_string(XX_terms[i]) + \\\n",
    "              operator_string_from_Pauli_string(YY_terms[i]) + \\\n",
    "              operator_string_from_Pauli_string(ZZ_terms[i])\n",
    "              \n",
    "heis_min, heis_GS = H_heis.groundstate()\n",
    "\n",
    "print(f'Ground state energy: {heis_min}')\n",
    "\n",
    "GS_coeff = np.zeros(2**n, dtype = complex)\n",
    "for i in range(2**n):\n",
    "    GS_coeff[i] = heis_GS[i][0][0]\n",
    "\n",
    "H_heis.data"
   ]
  },
  {
   "cell_type": "code",
   "execution_count": 13,
   "id": "dde31716-8033-4e02-acb4-30f0d083c12d",
   "metadata": {},
   "outputs": [
    {
     "name": "stdout",
     "output_type": "stream",
     "text": [
      "Ground state energy for n=10: -17.032141\n"
     ]
    }
   ],
   "source": [
    "import numpy as np\n",
    "import qutip as qt\n",
    "from scipy.sparse.linalg import eigsh\n",
    "\n",
    "def heisenberg_hamiltonian(n, Jx=1.0, Jy=1.0, Jz=1.0):\n",
    "    \"\"\"\n",
    "    Build the Heisenberg Hamiltonian:\n",
    "    H = sum_j [ Jx X_j X_{j+1} + Jy Y_j Y_{j+1} + Jz Z_j Z_{j+1} ]\n",
    "    for a chain of n spin-1/2 particles, open boundary conditions.\n",
    "    \"\"\"\n",
    "    sx = qt.sigmax()\n",
    "    sy = qt.sigmay()\n",
    "    sz = qt.sigmaz()\n",
    "    I  = qt.qeye(2)\n",
    "\n",
    "    H = 0\n",
    "    for j in range(n - 1):\n",
    "        ops_X = [I] * n\n",
    "        ops_Y = [I] * n\n",
    "        ops_Z = [I] * n\n",
    "\n",
    "        ops_X[j]   = sx\n",
    "        ops_X[j+1] = sx\n",
    "        ops_Y[j]   = sy\n",
    "        ops_Y[j+1] = sy\n",
    "        ops_Z[j]   = sz\n",
    "        ops_Z[j+1] = sz\n",
    "\n",
    "        H += Jx * qt.tensor(ops_X) + Jy * qt.tensor(ops_Y) + Jz * qt.tensor(ops_Z)\n",
    "\n",
    "    return H  # stays sparse\n",
    "\n",
    "def ground_state_energy(H):\n",
    "    \"\"\"\n",
    "    Find the ground state energy using sparse iterative diagonalisation.\n",
    "    \"\"\"\n",
    "    # Convert to CSR sparse matrix for scipy\n",
    "    H_sparse = H.data  # qutip uses scipy.sparse underneath\n",
    "\n",
    "    # Find smallest algebraic eigenvalue (ground state energy)\n",
    "    E0, psi0 = eigsh(H_sparse, k=1, which='SA')  # SA = smallest algebraic\n",
    "    return E0[0], qt.Qobj(psi0[:, 0])  # return energy and state as Qobj\n",
    "\n",
    "# Example: n = 12 qubits\n",
    "n_qubits = 10\n",
    "H = heisenberg_hamiltonian(n_qubits)\n",
    "E0, psi0 = ground_state_energy(H)\n",
    "\n",
    "print(f\"Ground state energy for n={n_qubits}: {E0:.6f}\")\n"
   ]
  },
  {
   "cell_type": "code",
   "execution_count": 138,
   "id": "2f30acfe-4f2a-408a-a8d9-e6253cd199d6",
   "metadata": {},
   "outputs": [
    {
     "name": "stdout",
     "output_type": "stream",
     "text": [
      "GS energy: -6.464101615137754\n",
      "VQE state energy: -1.038243411238075\n"
     ]
    }
   ],
   "source": [
    "#heisenberg model with single qubit control and native ZZ gates\n",
    "n = 4\n",
    "bin_num = 10\n",
    "ctrl_num = 8\n",
    "\n",
    "#pulse sequence data and manipulation into time bins\n",
    "x_optm = np.loadtxt('heis_n=4_bin=1.csv', delimiter = ',')\n",
    "T_optm = x_optm[-1]\n",
    "Dt = T_optm / bin_num\n",
    "cX_bin, cY_bin = np.zeros([n, bin_num]), np.zeros([n, bin_num])\n",
    "for i in range(n):\n",
    "    for j in range(bin_num):\n",
    "        cX_bin[i, j] = x_optm[8 * j + 2 * i]\n",
    "        cY_bin[i, j] = x_optm[8 * j + 2 * i + 1]\n",
    "    cX_bin[i] = -np.flip(cX_bin[i])\n",
    "    cY_bin[i] = -np.flip(cY_bin[i])\n",
    "\n",
    "#time in simulation\n",
    "time_steps = 20\n",
    "times = np.linspace(0, T_optm, time_steps)\n",
    "\n",
    "#pulse sequence for the simulation times\n",
    "cX, cY = np.zeros([n, time_steps]), np.zeros([n, time_steps])\n",
    "for i in range(n):\n",
    "    count = 1\n",
    "    for j in range(time_steps):\n",
    "        if times[j] > count * Dt and count < bin_num:#second condition to avoid floating point errors\n",
    "            count += 1\n",
    "        cX[i, j] = cX_bin[i, count - 1]\n",
    "        cY[i, j] = cY_bin[i, count - 1]\n",
    "\n",
    "#control Hamiltonian for QuTIP mesovle function \n",
    "X_ops, Y_ops = np.zeros(n, dtype = list), np.zeros(n, dtype = list)\n",
    "H_control = []\n",
    "for i in range(n):\n",
    "    X_ops[i] = operator_string_from_Pauli_string(pauli_string_at_qubit_position(n, 'X', i))\n",
    "    Y_ops[i] = operator_string_from_Pauli_string(pauli_string_at_qubit_position(n, 'Y', i))\n",
    "    H_control.append([X_ops[i], cX[i]])\n",
    "    H_control.append([Y_ops[i], cY[i]])\n",
    "\n",
    "#native Hamiltonian for QuTIP mesolve function\n",
    "cZZ = np.ones(time_steps)\n",
    "ZZ_ops = np.zeros(n, dtype = list)\n",
    "H_native = []\n",
    "for i in range(n - 1):\n",
    "    ZZ_ops[i] = operator_string_from_Pauli_string(pauli_string_at_qubit_position(n, 'ZZ', i))\n",
    "    H_native.append([ZZ_ops[i], cZZ])\n",
    "\n",
    "H_time_dependent = H_control + H_native\n",
    "\n",
    "\n",
    "\n",
    "#QuTIP simulation\n",
    "psi0 = tensor([basis(2, 1)] * n)\n",
    "\n",
    "result = sesolve(H_time_dependent, psi0, times)\n",
    "psiT = result.states[-1]\n",
    "psiT_energy = np.real((psiT.dag() * H_heis * psiT)[0][0][0])\n",
    "print(f'GS energy: {heis_min}')\n",
    "print(f'VQE state energy: {psiT_energy}')\n",
    "\n",
    "#POTENTIALLY THE WRONG ORDER FOR OPTIMISATION COEFFICIENTS?!?!?!?!?!?!?!?!?!?!?!?!?!?!?\n",
    "\n"
   ]
  },
  {
   "cell_type": "code",
   "execution_count": 126,
   "id": "6d035a50-2846-4d0b-9bc1-dfab5667033b",
   "metadata": {},
   "outputs": [
    {
     "data": {
      "text/plain": [
       "array([6.28505644e+00, 2.10238423e+02, 4.14191789e+02, 6.18145155e+02,\n",
       "       8.22098521e+02, 1.02605189e+03, 1.23000525e+03, 1.43395862e+03,\n",
       "       1.63791199e+03, 1.84186535e+03, 2.04581872e+03, 2.24977208e+03,\n",
       "       2.45372545e+03, 2.65767882e+03, 2.86163218e+03, 3.06558555e+03,\n",
       "       3.26953892e+03, 3.47349228e+03, 3.67744565e+03, 3.88139901e+03,\n",
       "       4.08535238e+03, 4.28930575e+03, 4.49325911e+03, 4.69721248e+03,\n",
       "       4.90116585e+03, 5.10511921e+03, 5.30907258e+03, 5.51302594e+03,\n",
       "       5.71697931e+03, 5.92093268e+03, 6.12488604e+03, 6.32883941e+03,\n",
       "       6.53279277e+03, 6.73674614e+03, 6.94069951e+03, 7.14465287e+03,\n",
       "       7.34860624e+03, 7.55255961e+03, 7.75651297e+03, 7.96046634e+03,\n",
       "       8.16441970e+03, 8.36837307e+03, 8.57232644e+03, 8.77627980e+03,\n",
       "       8.98023317e+03, 9.18418654e+03, 9.38813990e+03, 9.59209327e+03,\n",
       "       9.79604663e+03, 1.00000000e+04])"
      ]
     },
     "execution_count": 126,
     "metadata": {},
     "output_type": "execute_result"
    }
   ],
   "source": [
    "times"
   ]
  },
  {
   "cell_type": "code",
   "execution_count": 87,
   "id": "2676ecea-39af-431b-a750-fb927d5d8e66",
   "metadata": {},
   "outputs": [
    {
     "data": {
      "text/plain": [
       "[1, 2, 3, 4, 5]"
      ]
     },
     "execution_count": 87,
     "metadata": {},
     "output_type": "execute_result"
    }
   ],
   "source": [
    "x = [1, 2, 3, 4, 5, 6]\n",
    "x[:-1]"
   ]
  },
  {
   "cell_type": "code",
   "execution_count": 20,
   "id": "1aa42f81-6558-4280-a5fd-cc569d553b87",
   "metadata": {},
   "outputs": [
    {
     "name": "stdout",
     "output_type": "stream",
     "text": [
      "Ground state energy: -5.457414830239131\n"
     ]
    }
   ],
   "source": [
    "#crushed Ising model (cIm) - definition, spectrum and eigenstates\n",
    "n = 4\n",
    "X1, Xn = 'X' + 'I' * (n - 1), 'I' * (n - 1) + 'X'\n",
    "cIm_terms = tuple(list(all_single_operator_strings(n, 'Z')) + [X1, Xn] + list(local_2body_strings(n, 'XX')))\n",
    "H_cIm = 0 \n",
    "for j in range(len(cIm_terms)):\n",
    "    H_cIm += operator_string_from_Pauli_string(cIm_terms[j])\n",
    "\n",
    "cIm_spectrum, cIm_states = H_cIm.eigenstates()\n",
    "cIm_min, cIm_GS = cIm_spectrum[0], cIm_states[0]\n",
    "print(f'Ground state energy: {cIm_min}')"
   ]
  },
  {
   "cell_type": "code",
   "execution_count": 21,
   "id": "7def3326-7039-49fa-acd8-921e7f4dcd68",
   "metadata": {},
   "outputs": [
    {
     "name": "stdout",
     "output_type": "stream",
     "text": [
      "Ground state energy: -2.3000823110299846\n"
     ]
    }
   ],
   "source": [
    "#shortest vector problem (svp) style hamiltonian - definition, spectrum, eigenstates\n",
    "#make sure order of weights and terms is the same as in the MATLAB code\n",
    "n = 4\n",
    "svp_terms = tuple(list(all_single_operator_strings(n, 'Z')) + list(nonlocal_2body_strings(n, 'Z', 'Z')))\n",
    "svp_weights = ran(1, len(svp_terms))\n",
    "\n",
    "H_svp = 0\n",
    "for j in range(len(svp_terms)):\n",
    "    H_svp += svp_weights[j] * operator_string_from_Pauli_string(svp_terms[j])\n",
    "\n",
    "svp_spectrum, svp_states = H_svp.eigenstates()\n",
    "svp_min, svp_GS = svp_spectrum[0], svp_states[0]\n",
    "\n",
    "print(f'Ground state energy: {svp_min}')"
   ]
  },
  {
   "cell_type": "code",
   "execution_count": 6,
   "id": "d46451b2-f124-4023-a05a-451ca4b2939f",
   "metadata": {},
   "outputs": [
    {
     "name": "stdout",
     "output_type": "stream",
     "text": [
      "6\n"
     ]
    },
    {
     "data": {
      "text/plain": [
       "0.0"
      ]
     },
     "execution_count": 6,
     "metadata": {},
     "output_type": "execute_result"
    }
   ],
   "source": [
    "for i in range(2**n):\n",
    "    if round(abs(svp_GS[i][0][0])) == 1:\n",
    "        print(i)\n",
    "#GS = 22 = 010110\n",
    "gs = tensor([basis(2, 0), basis(2, 1), basis(2, 0), basis(2, 1)])#, basis(2, 1), basis(2, 0)])\n",
    "fidelity(gs, svp_GS)"
   ]
  },
  {
   "cell_type": "code",
   "execution_count": 56,
   "id": "a2ee913e-bf40-40a5-b01b-38fd32176e5e",
   "metadata": {},
   "outputs": [],
   "source": [
    "#importing and organising data\n",
    "n = 4\n",
    "bin_num = 10\n",
    "ctrl_num = 8\n",
    "x_optm = np.loadtxt('data/vqe_n=4_.csv', delimiter=',')\n",
    "T_optm = x_optm[-1]\n",
    "Dt = T_optm / bin_num\n",
    "c_optm = np.reshape(x_optm[:-1], (bin_num, ctrl_num))\n",
    "\n",
    "cX_temp, cY_temp = np.zeros([n, bin_num]), np.zeros([n, bin_num])\n",
    "for i in range(n):\n",
    "    cX_temp[i] = c_optm[:, 2 * i]\n",
    "    cY_temp[i] = c_optm[:, 2 * i + 1]\n",
    "\n",
    "#swapping sign and order of cX an cY\n",
    "cX_binned, cY_binned = np.zeros([n, bin_num]), np.zeros([n, bin_num])\n",
    "for i in range(n):\n",
    "    cX_binned[i] = -np.flip(cX_temp[i])\n",
    "    cY_binned[i] = -np.flip(cY_temp[i])\n",
    "#row represents the time bin, collumn represents the qubit on which X or Y act"
   ]
  },
  {
   "cell_type": "code",
   "execution_count": 57,
   "id": "940d6c7b-e65e-4474-a182-79d1d805098c",
   "metadata": {},
   "outputs": [],
   "source": [
    "#state vector simulation parameters and time-dependent pulse definition\n",
    "time_steps = 10000\n",
    "times = np.linspace(0, T_optm, time_steps)\n",
    "\n",
    "cX, cY = np.zeros([n, time_steps]), np.zeros([n, time_steps])\n",
    "for i in range(n):\n",
    "    count = 1\n",
    "    for j in range(time_steps):\n",
    "        if times[j] > count * Dt and count < bin_num: #second condition avoids floating error leading to count = bin_count + 1\n",
    "            count += 1\n",
    "        cX[i, j] = cX_binned[i, count - 1]\n",
    "        cY[i, j] = cY_binned[i, count - 1]\n",
    "\n",
    "X_ops, Y_ops = np.zeros(n, dtype = list), np.zeros(n, dtype = list)\n",
    "H_control = []\n",
    "for i in range(n):\n",
    "    X_ops[i] = operator_string_from_Pauli_string(pauli_string_at_qubit_position(n, 'X', i))\n",
    "    Y_ops[i] = operator_string_from_Pauli_string(pauli_string_at_qubit_position(n, 'Y', i))\n",
    "    H_control.append([X_ops[i], cX[i]])\n",
    "    H_control.append([Y_ops[i], cY[i]])\n",
    "\n",
    "cZZ = np.zeros(time_steps)\n",
    "ZZ_ops = np.zeros(n, dtype = list)\n",
    "H_native = []\n",
    "for i in range(n - 1):\n",
    "    ZZ_ops[i] = operator_string_from_Pauli_string(pauli_string_at_qubit_position(n, 'ZZ', i))\n",
    "    H_native.append([ZZ_ops[i], cZZ])\n",
    "\n",
    "H_time_dependent = H_control + H_native"
   ]
  },
  {
   "cell_type": "code",
   "execution_count": 58,
   "id": "165c2a9c-5fc3-4922-86f0-ee6e5b54a9c0",
   "metadata": {},
   "outputs": [],
   "source": [
    "#state vector simulation --> does it work!?!\n",
    "psi0 = tensor([basis(2, 0)] * n)\n",
    "result = mesolve(H_time_dependent, psi0, times)\n",
    "psiT = result.states[-1]"
   ]
  },
  {
   "cell_type": "code",
   "execution_count": 59,
   "id": "33c428cc-95f3-47a6-aae5-42cd1d319d29",
   "metadata": {},
   "outputs": [
    {
     "data": {
      "text/plain": [
       "(0.6126491884700125, -15.589104083569413)"
      ]
     },
     "execution_count": 59,
     "metadata": {},
     "output_type": "execute_result"
    }
   ],
   "source": [
    "expect(H_svp, psiT), expect(H_svp, svp_GS)"
   ]
  },
  {
   "cell_type": "code",
   "execution_count": 60,
   "id": "172af4c5-8c9d-41ee-8858-c72281c550a8",
   "metadata": {},
   "outputs": [
    {
     "data": {
      "text/plain": [
       "0.1492692319057453"
      ]
     },
     "execution_count": 60,
     "metadata": {},
     "output_type": "execute_result"
    }
   ],
   "source": [
    "fidelity(psiT, svp_GS)"
   ]
  },
  {
   "cell_type": "code",
   "execution_count": null,
   "id": "c34ce6e9-0b92-4169-b3a2-38be1a8e0c54",
   "metadata": {},
   "outputs": [],
   "source": []
  },
  {
   "cell_type": "code",
   "execution_count": 70,
   "id": "e0959fce-07b6-482b-b250-1de7e10a486b",
   "metadata": {},
   "outputs": [
    {
     "name": "stdout",
     "output_type": "stream",
     "text": [
      "Ground state energy: -5.45741483023913\n"
     ]
    }
   ],
   "source": [
    "#testing crished Ising model for a single bin (ie; constant Hamiltonian)\n",
    "#min energy: -5.104246e+00 > true GS, but close enough to test if we are realising what we want to realise \n",
    "n = 4\n",
    "\n",
    "#crushed Ising model\n",
    "X1, Xn = 'X' + 'I' * (n - 1), 'I' * (n - 1) + 'X'\n",
    "cIm_terms = tuple(list(all_single_operator_strings(n, 'Z')) + [X1, Xn] + list(local_2body_strings(n, 'XX')))\n",
    "H_cIm = 0 \n",
    "for j in range(len(cIm_terms)):\n",
    "    H_cIm += operator_string_from_Pauli_string(cIm_terms[j])\n",
    "cIm_min = H_cIm.groundstate()[0]\n",
    "print(f'Ground state energy: {cIm_min}')\n"
   ]
  },
  {
   "cell_type": "code",
   "execution_count": 77,
   "id": "9654274b-a991-4ffa-ba31-ee58d58deab7",
   "metadata": {},
   "outputs": [
    {
     "name": "stdout",
     "output_type": "stream",
     "text": [
      "Output state energy: Quantum object: dims = [[1], [1]], shape = (1, 1), type = bra\n",
      "Qobj data =\n",
      "[[-5.1105407]]\n"
     ]
    }
   ],
   "source": [
    "#single qubit control with native ZZ gates (seemingly turned OFF!?!)\n",
    "#with these settings; min energy = -5.104246e+00 != true ground state.\n",
    "#reachability issue (?) due to no entangling operation\n",
    "\n",
    "#optimal single pulse \n",
    "x_optm = np.loadtxt('cIm_1qcontrol_1bin_n=4.csv', delimiter = ',')\n",
    "T_optm = x_optm[-1]\n",
    "cX, cY = np.zeros(n), np.zeros(n)\n",
    "for i in range(n):\n",
    "    cX[i] = -x_optm[2 * i]\n",
    "    cY[i] = -x_optm[2 * i + 1]\n",
    "cZZ = 0\n",
    "\n",
    "#optimal Hamiltonian\n",
    "X_terms, Y_terms = all_single_operator_strings(n, 'X'), all_single_operator_strings(n, 'Y')\n",
    "ZZ_terms = local_2body_strings(n, 'ZZ')\n",
    "H_optm = 0\n",
    "for i in range(n):\n",
    "    H_optm += cX[i] * operator_string_from_Pauli_string(X_terms[i]) + cY[i] * operator_string_from_Pauli_string(Y_terms[i])\n",
    "for i in range(n - 1):\n",
    "    H_optm += cZZ * operator_string_from_Pauli_string(ZZ_terms[i])\n",
    "\n",
    "#simulation of optimal pulse\n",
    "psi0 = tensor([basis(2, 0)] * n)\n",
    "\n",
    "steps = 10000\n",
    "times = np.linspace(0, T_optm, steps)\n",
    "\n",
    "result = mesolve(H_optm, psi0, times)\n",
    "state = result.states[-1]\n",
    "energy = state.dag() * H_cIm * state\n",
    "\n",
    "print(f'Output state energy: {energy}')\n",
    "\n",
    "#ISSUE: NO ZZ IS HAPPENING!!!!!! NO 2 QUBIT GATE IS HAPPENING ON THE MATLAB CODE!!!"
   ]
  },
  {
   "cell_type": "code",
   "execution_count": 75,
   "id": "25137a0f-14d4-4f62-bf9c-fa4b88e893f8",
   "metadata": {},
   "outputs": [
    {
     "name": "stdout",
     "output_type": "stream",
     "text": [
      "Output state energy: Quantum object: dims = [[1], [1]], shape = (1, 1), type = bra\n",
      "Qobj data =\n",
      "[[3.5683291]]\n"
     ]
    }
   ],
   "source": [
    "#single and 2 qubit control -- is the two qubit control turned ON?!?!\n",
    "#with these settings, min energy = -5.143259e+00 != true ground state\n",
    "#initial seed guesses (x1 y1 x2 y2 ... z1z2 z2z3 z3z4  x'1 y'1 x'2 ... 'z'3z'4)\n",
    "\n",
    "#c0 = np.loadtxt('data/initial_guesses.csv', delimiter = ',')\n",
    "\n",
    "\n",
    "#optimal single and two qubit pulses\n",
    "x_optm = np.loadtxt('cIm_2qcontrol_1bin_n=4.csv', delimiter = ',')\n",
    "T_optm = x_optm[-1]\n",
    "cX, cY = np.zeros(n), np.zeros(n)\n",
    "for i in range(n):\n",
    "    cX[i] = -x_optm[2 * i]\n",
    "    cY[i] = -x_optm[2 * i + 1]\n",
    "    \n",
    "#cZZ = np.zeros(n - 1)\n",
    "#for i in range(n - 1):\n",
    "#    cZZ[i] = x_optm[2 * n + i]\n",
    "cZZ = -np.ones(n - 1)\n",
    "\n",
    "#optimal Hamiltonian\n",
    "X_terms, Y_terms = all_single_operator_strings(n, 'X'), all_single_operator_strings(n, 'Y')\n",
    "ZZ_terms = local_2body_strings(n, 'ZZ')\n",
    "H_optm = 0\n",
    "for i in range(n):\n",
    "    H_optm += cX[i] * operator_string_from_Pauli_string(X_terms[i]) + cY[i] * operator_string_from_Pauli_string(Y_terms[i])\n",
    "\n",
    "for i in range(n - 1):\n",
    "    H_optm += cZZ[i] * operator_string_from_Pauli_string(ZZ_terms[i])\n",
    "\n",
    "#simulation of optimal pulses\n",
    "psi0 = tensor([basis(2, 0)] * n)\n",
    "\n",
    "steps = 10000\n",
    "times = np.linspace(0, T_optm, steps)\n",
    "\n",
    "result = mesolve(H_optm, psi0, times)\n",
    "state = result.states[-1]\n",
    "energy = state.dag() * H_cIm * state\n",
    "\n",
    "print(f'Output state energy: {energy}')\n",
    "\n",
    "\n"
   ]
  },
  {
   "cell_type": "code",
   "execution_count": 33,
   "id": "43cdd734-c9ad-4b21-b930-5e9c9eefa4e1",
   "metadata": {},
   "outputs": [
    {
     "data": {
      "text/plain": [
       "0.031552401658149896"
      ]
     },
     "execution_count": 33,
     "metadata": {},
     "output_type": "execute_result"
    }
   ],
   "source": [
    "#testing shortest vector problem for a single bin (ie; constant Hamiltonian)\n",
    "x_optm = np.loadtxt('data/svp_1bin_n=4.csv', delimiter=',')\n",
    "T_optm = x_optm[-1]\n",
    "cX1, cY1 = -x_optm[0], -x_optm[1]\n",
    "cX4, cY4 = -x_optm[-3], -x_optm[-2]\n",
    "cZZ = -1\n",
    "\n",
    "id = qeye(2)\n",
    "X1, Y1 = tensor([sigmax(), id, id, id]), tensor([sigmay(), id, id, id])\n",
    "X4, Y4 = tensor([id, id, id, sigmax()]), tensor([id, id, id, sigmay()])\n",
    "Z1Z2 = tensor([sigmaz(), sigmaz(), id, id])\n",
    "Z2Z3 = tensor([id, sigmaz(), sigmaz(), id])\n",
    "Z3Z4 = tensor([id, id, sigmaz(), sigmaz()])\n",
    "\n",
    "H_optm = cX1 * X1 + cY1 * Y1 + cX4 * X4 + cY4 * Y4 + cZZ * (Z1Z2 + Z2Z3 + Z3Z4)\n",
    "\n",
    "psi0 = tensor([basis(2, 0)] * 4)\n",
    "\n",
    "steps = 10000\n",
    "times = np.linspace(0, T_optm, steps)\n",
    "\n",
    "result = mesolve(H_optm, psi0, times)\n",
    "state = result.states[-1]\n",
    "#print(result.states[-1])\n",
    "fidelity(result.states[-1], tensor([basis(2, 1), basis(2, 0), basis(2, 0), basis(2, 1)]))"
   ]
  },
  {
   "cell_type": "code",
   "execution_count": null,
   "id": "33d9a716-5469-4129-acce-de5a81185806",
   "metadata": {},
   "outputs": [],
   "source": []
  },
  {
   "cell_type": "code",
   "execution_count": null,
   "id": "81aefa5a-d357-4f6e-997c-32cec75288e1",
   "metadata": {},
   "outputs": [],
   "source": []
  },
  {
   "cell_type": "code",
   "execution_count": null,
   "id": "6704848e-d689-4043-a3b8-c5f7159ce4a9",
   "metadata": {},
   "outputs": [],
   "source": []
  },
  {
   "cell_type": "code",
   "execution_count": null,
   "id": "2e985e54-9a15-425f-9f2c-93c8218e8372",
   "metadata": {},
   "outputs": [],
   "source": []
  },
  {
   "cell_type": "code",
   "execution_count": null,
   "id": "d40e7a0f-1dd2-43bb-9e4c-2b11674ea38c",
   "metadata": {},
   "outputs": [],
   "source": []
  },
  {
   "cell_type": "code",
   "execution_count": null,
   "id": "f495545f-b48b-473f-b56a-00fb8156ce0b",
   "metadata": {},
   "outputs": [],
   "source": []
  },
  {
   "cell_type": "code",
   "execution_count": null,
   "id": "fc0e60e9-6bb7-4d48-8f48-303602cc73bb",
   "metadata": {},
   "outputs": [],
   "source": []
  }
 ],
 "metadata": {
  "kernelspec": {
   "display_name": "Python 3 (ipykernel)",
   "language": "python",
   "name": "python3"
  },
  "language_info": {
   "codemirror_mode": {
    "name": "ipython",
    "version": 3
   },
   "file_extension": ".py",
   "mimetype": "text/x-python",
   "name": "python",
   "nbconvert_exporter": "python",
   "pygments_lexer": "ipython3",
   "version": "3.9.18"
  }
 },
 "nbformat": 4,
 "nbformat_minor": 5
}
